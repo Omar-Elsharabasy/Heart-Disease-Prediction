{
 "cells": [
  {
   "cell_type": "markdown",
   "id": "a9f23385",
   "metadata": {},
   "source": [
    "## Steps: \n",
    "\n",
    "1. Use Feature Importance (Random Forest / XGBoost feature importance scores) to \n",
    "rank variables. \n",
    "2. Apply Recursive Feature Elimination (RFE) to select the best predictors. \n",
    "3. Use Chi-Square Test to check feature significance. \n",
    "4. Select only the most relevant features for modeling"
   ]
  },
  {
   "cell_type": "code",
   "execution_count": 1,
   "id": "29ba1416",
   "metadata": {},
   "outputs": [
    {
     "data": {
      "application/vnd.microsoft.datawrangler.viewer.v0+json": {
       "columns": [
        {
         "name": "index",
         "rawType": "int64",
         "type": "integer"
        },
        {
         "name": "age",
         "rawType": "float64",
         "type": "float"
        },
        {
         "name": "sex",
         "rawType": "int64",
         "type": "integer"
        },
        {
         "name": "cp",
         "rawType": "int64",
         "type": "integer"
        },
        {
         "name": "trestbps",
         "rawType": "float64",
         "type": "float"
        },
        {
         "name": "chol",
         "rawType": "float64",
         "type": "float"
        },
        {
         "name": "fbs",
         "rawType": "int64",
         "type": "integer"
        },
        {
         "name": "restecg",
         "rawType": "int64",
         "type": "integer"
        },
        {
         "name": "thalach",
         "rawType": "float64",
         "type": "float"
        },
        {
         "name": "exang",
         "rawType": "int64",
         "type": "integer"
        },
        {
         "name": "oldpeak",
         "rawType": "float64",
         "type": "float"
        },
        {
         "name": "slope",
         "rawType": "int64",
         "type": "integer"
        },
        {
         "name": "ca",
         "rawType": "float64",
         "type": "float"
        },
        {
         "name": "thal",
         "rawType": "int64",
         "type": "integer"
        },
        {
         "name": "num",
         "rawType": "int64",
         "type": "integer"
        }
       ],
       "ref": "279c66c3-164e-4258-8765-bc2289dd6ed4",
       "rows": [
        [
         "0",
         "0.9361806492869552",
         "1",
         "1",
         "0.750380041408663",
         "-0.27644339140393",
         "1",
         "2",
         "0.0174944339930979",
         "0",
         "1.0689652869493862",
         "3",
         "-0.7219760518291243",
         "2",
         "0"
        ],
        [
         "1",
         "1.3789285041248942",
         "1",
         "4",
         "-0.6594306386164683",
         "-0.3534998787309756",
         "0",
         "2",
         "-0.8994197241157145",
         "1",
         "1.326662275767542",
         "2",
         "1.4116248177554516",
         "3",
         "1"
        ],
        [
         "2",
         "-1.9416804071596487",
         "1",
         "3",
         "-0.0955063666064158",
         "0.051046679736014",
         "0",
         "0",
         "1.6330098554229102",
         "0",
         "2.0997532422220093",
         "3",
         "-0.7219760518291243",
         "1",
         "0"
        ],
        [
         "3",
         "-1.4989325523217096",
         "0",
         "2",
         "-0.0955063666064158",
         "-0.835102924525011",
         "0",
         "2",
         "0.9780711710594728",
         "0",
         "0.2958743204949193",
         "1",
         "-0.7219760518291243",
         "1",
         "0"
        ],
        [
         "4",
         "0.1613719033205618",
         "1",
         "2",
         "-0.6594306386164683",
         "-0.2186510259086457",
         "0",
         "0",
         "1.240046644804848",
         "0",
         "-0.2195196571413918",
         "1",
         "-0.7219760518291243",
         "1",
         "0"
        ]
       ],
       "shape": {
        "columns": 14,
        "rows": 5
       }
      },
      "text/html": [
       "<div>\n",
       "<style scoped>\n",
       "    .dataframe tbody tr th:only-of-type {\n",
       "        vertical-align: middle;\n",
       "    }\n",
       "\n",
       "    .dataframe tbody tr th {\n",
       "        vertical-align: top;\n",
       "    }\n",
       "\n",
       "    .dataframe thead th {\n",
       "        text-align: right;\n",
       "    }\n",
       "</style>\n",
       "<table border=\"1\" class=\"dataframe\">\n",
       "  <thead>\n",
       "    <tr style=\"text-align: right;\">\n",
       "      <th></th>\n",
       "      <th>age</th>\n",
       "      <th>sex</th>\n",
       "      <th>cp</th>\n",
       "      <th>trestbps</th>\n",
       "      <th>chol</th>\n",
       "      <th>fbs</th>\n",
       "      <th>restecg</th>\n",
       "      <th>thalach</th>\n",
       "      <th>exang</th>\n",
       "      <th>oldpeak</th>\n",
       "      <th>slope</th>\n",
       "      <th>ca</th>\n",
       "      <th>thal</th>\n",
       "      <th>num</th>\n",
       "    </tr>\n",
       "  </thead>\n",
       "  <tbody>\n",
       "    <tr>\n",
       "      <th>0</th>\n",
       "      <td>0.936181</td>\n",
       "      <td>1</td>\n",
       "      <td>1</td>\n",
       "      <td>0.750380</td>\n",
       "      <td>-0.276443</td>\n",
       "      <td>1</td>\n",
       "      <td>2</td>\n",
       "      <td>0.017494</td>\n",
       "      <td>0</td>\n",
       "      <td>1.068965</td>\n",
       "      <td>3</td>\n",
       "      <td>-0.721976</td>\n",
       "      <td>2</td>\n",
       "      <td>0</td>\n",
       "    </tr>\n",
       "    <tr>\n",
       "      <th>1</th>\n",
       "      <td>1.378929</td>\n",
       "      <td>1</td>\n",
       "      <td>4</td>\n",
       "      <td>-0.659431</td>\n",
       "      <td>-0.353500</td>\n",
       "      <td>0</td>\n",
       "      <td>2</td>\n",
       "      <td>-0.899420</td>\n",
       "      <td>1</td>\n",
       "      <td>1.326662</td>\n",
       "      <td>2</td>\n",
       "      <td>1.411625</td>\n",
       "      <td>3</td>\n",
       "      <td>1</td>\n",
       "    </tr>\n",
       "    <tr>\n",
       "      <th>2</th>\n",
       "      <td>-1.941680</td>\n",
       "      <td>1</td>\n",
       "      <td>3</td>\n",
       "      <td>-0.095506</td>\n",
       "      <td>0.051047</td>\n",
       "      <td>0</td>\n",
       "      <td>0</td>\n",
       "      <td>1.633010</td>\n",
       "      <td>0</td>\n",
       "      <td>2.099753</td>\n",
       "      <td>3</td>\n",
       "      <td>-0.721976</td>\n",
       "      <td>1</td>\n",
       "      <td>0</td>\n",
       "    </tr>\n",
       "    <tr>\n",
       "      <th>3</th>\n",
       "      <td>-1.498933</td>\n",
       "      <td>0</td>\n",
       "      <td>2</td>\n",
       "      <td>-0.095506</td>\n",
       "      <td>-0.835103</td>\n",
       "      <td>0</td>\n",
       "      <td>2</td>\n",
       "      <td>0.978071</td>\n",
       "      <td>0</td>\n",
       "      <td>0.295874</td>\n",
       "      <td>1</td>\n",
       "      <td>-0.721976</td>\n",
       "      <td>1</td>\n",
       "      <td>0</td>\n",
       "    </tr>\n",
       "    <tr>\n",
       "      <th>4</th>\n",
       "      <td>0.161372</td>\n",
       "      <td>1</td>\n",
       "      <td>2</td>\n",
       "      <td>-0.659431</td>\n",
       "      <td>-0.218651</td>\n",
       "      <td>0</td>\n",
       "      <td>0</td>\n",
       "      <td>1.240047</td>\n",
       "      <td>0</td>\n",
       "      <td>-0.219520</td>\n",
       "      <td>1</td>\n",
       "      <td>-0.721976</td>\n",
       "      <td>1</td>\n",
       "      <td>0</td>\n",
       "    </tr>\n",
       "  </tbody>\n",
       "</table>\n",
       "</div>"
      ],
      "text/plain": [
       "        age  sex  cp  trestbps      chol  fbs  restecg   thalach  exang  \\\n",
       "0  0.936181    1   1  0.750380 -0.276443    1        2  0.017494      0   \n",
       "1  1.378929    1   4 -0.659431 -0.353500    0        2 -0.899420      1   \n",
       "2 -1.941680    1   3 -0.095506  0.051047    0        0  1.633010      0   \n",
       "3 -1.498933    0   2 -0.095506 -0.835103    0        2  0.978071      0   \n",
       "4  0.161372    1   2 -0.659431 -0.218651    0        0  1.240047      0   \n",
       "\n",
       "    oldpeak  slope        ca  thal  num  \n",
       "0  1.068965      3 -0.721976     2    0  \n",
       "1  1.326662      2  1.411625     3    1  \n",
       "2  2.099753      3 -0.721976     1    0  \n",
       "3  0.295874      1 -0.721976     1    0  \n",
       "4 -0.219520      1 -0.721976     1    0  "
      ]
     },
     "execution_count": 1,
     "metadata": {},
     "output_type": "execute_result"
    }
   ],
   "source": [
    "# Load the data\n",
    "import pandas as pd\n",
    "\n",
    "df = pd.read_csv('../data/processed_heart_disease.csv')\n",
    "df.head()"
   ]
  },
  {
   "cell_type": "markdown",
   "id": "b164cf1b",
   "metadata": {},
   "source": [
    "## 1. Use Feature Importance (Random Forest / XGBoost feature importance scores) to rank variables."
   ]
  },
  {
   "cell_type": "markdown",
   "id": "d594ce30",
   "metadata": {},
   "source": [
    "### 1.1 Using Random Forest"
   ]
  },
  {
   "cell_type": "code",
   "execution_count": 2,
   "id": "6d4bad5e",
   "metadata": {},
   "outputs": [
    {
     "name": "stdout",
     "output_type": "stream",
     "text": [
      "Feature importances (Random Forest):\n",
      "thal        0.148232\n",
      "cp          0.126381\n",
      "thalach     0.115944\n",
      "oldpeak     0.110392\n",
      "age         0.100756\n",
      "ca          0.092167\n",
      "chol        0.076724\n",
      "trestbps    0.071028\n",
      "exang       0.053546\n",
      "slope       0.043830\n",
      "sex         0.033275\n",
      "restecg     0.020082\n",
      "fbs         0.007642\n",
      "dtype: float64\n"
     ]
    }
   ],
   "source": [
    "from sklearn.ensemble import RandomForestClassifier\n",
    "\n",
    "X = df.drop('num', axis=1)\n",
    "y = df['num']\n",
    "\n",
    "rf = RandomForestClassifier(random_state=42)\n",
    "rf.fit(X, y)\n",
    "\n",
    "importances_rf = pd.Series(rf.feature_importances_, index=X.columns)\n",
    "importances_rf.sort_values(ascending=False, inplace=True)\n",
    "\n",
    "print(\"Feature importances (Random Forest):\")\n",
    "print(importances_rf)"
   ]
  },
  {
   "cell_type": "code",
   "execution_count": 3,
   "id": "955f3582",
   "metadata": {},
   "outputs": [
    {
     "data": {
      "image/png": "[encoded data removed]",
      "text/plain": [
       "<Figure size 1000x800 with 1 Axes>"
      ]
     },
     "metadata": {},
     "output_type": "display_data"
    }
   ],
   "source": [
    "import matplotlib.pyplot as plt\n",
    "\n",
    "plt.figure(figsize=(10, 8))\n",
    "importances_rf.plot(kind='bar')\n",
    "plt.title('Feature Importances (Random Forest)')\n",
    "plt.ylabel('Importance Score')\n",
    "plt.xlabel('Features')\n",
    "plt.show()"
   ]
  },
  {
   "cell_type": "markdown",
   "id": "c443e48a",
   "metadata": {},
   "source": [
    "### 1.2 Using XGBoost "
   ]
  },
  {
   "cell_type": "code",
   "execution_count": 4,
   "id": "3d928eda",
   "metadata": {},
   "outputs": [
    {
     "name": "stdout",
     "output_type": "stream",
     "text": [
      "Feature importances (XGBoost):\n",
      "thal        0.321294\n",
      "cp          0.145037\n",
      "ca          0.110284\n",
      "exang       0.071435\n",
      "oldpeak     0.057474\n",
      "sex         0.057438\n",
      "slope       0.048735\n",
      "age         0.047939\n",
      "chol        0.034746\n",
      "thalach     0.032035\n",
      "fbs         0.031089\n",
      "trestbps    0.024222\n",
      "restecg     0.018273\n",
      "dtype: float32\n"
     ]
    }
   ],
   "source": [
    "import xgboost as xgb\n",
    "from xgboost import XGBClassifier\n",
    "\n",
    "xgb_model = XGBClassifier(random_state=42)\n",
    "xgb_model.fit(X, y)\n",
    "\n",
    "importances_xgb = pd.Series(xgb_model.feature_importances_, index=X.columns)\n",
    "importances_xgb.sort_values(ascending=False, inplace=True)\n",
    "\n",
    "print(\"Feature importances (XGBoost):\")\n",
    "print(importances_xgb)"
   ]
  },
  {
   "cell_type": "code",
   "execution_count": 5,
   "id": "592acb69",
   "metadata": {},
   "outputs": [
    {
     "data": {
      "image/png": "[encoded data removed]",
      "text/plain": [
       "<Figure size 1000x800 with 1 Axes>"
      ]
     },
     "metadata": {},
     "output_type": "display_data"
    }
   ],
   "source": [
    "plt.figure(figsize=(10, 8))\n",
    "importances_xgb.plot(kind='bar')\n",
    "plt.title('Feature Importances (XGBoost)')\n",
    "plt.ylabel('Importance Score')\n",
    "plt.xlabel('Features')\n",
    "plt.show()"
   ]
  },
  {
   "cell_type": "markdown",
   "id": "59b09173",
   "metadata": {},
   "source": [
    "## 2. Apply Recursive Feature Elimination (RFE) to select the best predictors. "
   ]
  },
  {
   "cell_type": "code",
   "execution_count": 6,
   "id": "4b7b58b0",
   "metadata": {},
   "outputs": [
    {
     "name": "stdout",
     "output_type": "stream",
     "text": [
      "Selected features by RFE:\n",
      "Index(['age', 'cp', 'trestbps', 'chol', 'thalach', 'exang', 'oldpeak', 'slope',\n",
      "       'ca', 'thal'],\n",
      "      dtype='object')\n"
     ]
    }
   ],
   "source": [
    "from sklearn.feature_selection import RFE\n",
    "\n",
    "rfe = RFE(estimator=rf, n_features_to_select=10)\n",
    "rfe.fit(X, y)\n",
    "\n",
    "selected_features = X.columns[rfe.support_]\n",
    "print(\"Selected features by RFE:\")\n",
    "print(selected_features)"
   ]
  },
  {
   "cell_type": "code",
   "execution_count": 7,
   "id": "b481311d",
   "metadata": {},
   "outputs": [
    {
     "name": "stdout",
     "output_type": "stream",
     "text": [
      "Selected features by RFE (XGBoost):\n",
      "Index(['age', 'sex', 'cp', 'chol', 'thalach', 'exang', 'oldpeak', 'slope',\n",
      "       'ca', 'thal'],\n",
      "      dtype='object')\n"
     ]
    }
   ],
   "source": [
    "xgbe = RFE(estimator=xgb_model, n_features_to_select=10)\n",
    "xgbe.fit(X, y)\n",
    "\n",
    "selected_features_xgb = X.columns[xgbe.support_]\n",
    "print(\"Selected features by RFE (XGBoost):\")\n",
    "print(selected_features_xgb)"
   ]
  },
  {
   "cell_type": "code",
   "execution_count": 8,
   "id": "8c31c0ed",
   "metadata": {},
   "outputs": [
    {
     "name": "stdout",
     "output_type": "stream",
     "text": [
      "Combined selected features from both models:\n"
     ]
    },
    {
     "data": {
      "text/plain": [
       "['oldpeak',\n",
       " 'ca',\n",
       " 'chol',\n",
       " 'exang',\n",
       " 'cp',\n",
       " 'sex',\n",
       " 'thalach',\n",
       " 'trestbps',\n",
       " 'age',\n",
       " 'thal',\n",
       " 'slope']"
      ]
     },
     "execution_count": 8,
     "metadata": {},
     "output_type": "execute_result"
    }
   ],
   "source": [
    "selected_features_all = set(selected_features).union(set(selected_features_xgb))\n",
    "\n",
    "print(\"Combined selected features from both models:\")\n",
    "selected_features_all = list(selected_features_all)\n",
    "selected_features_all"
   ]
  },
  {
   "cell_type": "markdown",
   "id": "76d7b172",
   "metadata": {},
   "source": [
    "## 3. Use Chi-Square Test to check feature significance. "
   ]
  },
  {
   "cell_type": "code",
   "execution_count": 9,
   "id": "d762d007",
   "metadata": {},
   "outputs": [
    {
     "name": "stdout",
     "output_type": "stream",
     "text": [
      "Chi-Square Test Results:\n",
      "     Feature  Chi2 Score       p-value\n",
      "12      thal   90.775658  1.609209e-21\n",
      "11        ca   58.324749  2.222307e-14\n",
      "9    oldpeak   45.624025  1.432735e-11\n",
      "8      exang   31.296869  2.214364e-08\n",
      "2         cp   18.393511  1.796688e-05\n",
      "10     slope   16.802939  4.146903e-05\n",
      "7    thalach   14.699295  1.260936e-04\n",
      "1        sex    8.300846  3.962661e-03\n",
      "6    restecg    6.325256  1.190303e-02\n",
      "0        age    3.770436  5.216602e-02\n",
      "3   trestbps    0.869189  3.511798e-01\n",
      "4       chol    0.740365  3.895441e-01\n",
      "5        fbs    0.001051  9.741397e-01\n"
     ]
    }
   ],
   "source": [
    "from sklearn.feature_selection import chi2\n",
    "import numpy as np\n",
    "\n",
    "X_chi2 = X.copy()\n",
    "# Shift all columns to be non-negative\n",
    "X_chi2 = X_chi2 - X_chi2.min()\n",
    "\n",
    "chi2_scores, p_values = chi2(X_chi2, y)\n",
    "chi2_results = pd.DataFrame({\n",
    "    'Feature': X.columns,\n",
    "    'Chi2 Score': chi2_scores,\n",
    "    'p-value': p_values\n",
    "}).sort_values('Chi2 Score', ascending=False)\n",
    "\n",
    "print(\"Chi-Square Test Results:\")\n",
    "print(chi2_results)"
   ]
  },
  {
   "cell_type": "code",
   "execution_count": 10,
   "id": "a6a62a3a",
   "metadata": {},
   "outputs": [
    {
     "name": "stdout",
     "output_type": "stream",
     "text": [
      "Significant features based on Chi-Square Test (p < 0.05):\n",
      "['thal', 'ca', 'oldpeak', 'exang', 'cp', 'slope', 'thalach', 'sex', 'restecg']\n"
     ]
    }
   ],
   "source": [
    "significant_features = chi2_results[chi2_results['p-value'] < 0.05]['Feature'].tolist()\n",
    "print(\"Significant features based on Chi-Square Test (p < 0.05):\")\n",
    "print(significant_features)"
   ]
  },
  {
   "cell_type": "markdown",
   "id": "cc8e1c5d",
   "metadata": {},
   "source": [
    "## 4. Select only the most relevant features for modeling"
   ]
  },
  {
   "cell_type": "code",
   "execution_count": 11,
   "id": "ce84a959",
   "metadata": {},
   "outputs": [
    {
     "name": "stdout",
     "output_type": "stream",
     "text": [
      "Combined features from RFE and Chi-Square Test:\n",
      "{'oldpeak', 'sex', 'ca', 'thalach', 'exang', 'thal', 'cp', 'slope'}\n"
     ]
    }
   ],
   "source": [
    "# Combine the selected features from RFE and significant features from Chi-Square Test\n",
    "combined_features = set(selected_features_all).intersection(set(significant_features))\n",
    "print(\"Combined features from RFE and Chi-Square Test:\")\n",
    "print(combined_features)"
   ]
  },
  {
   "cell_type": "code",
   "execution_count": 12,
   "id": "8ede2652",
   "metadata": {},
   "outputs": [
    {
     "name": "stdout",
     "output_type": "stream",
     "text": [
      "Dataframe with selected features for modeling:\n"
     ]
    },
    {
     "data": {
      "application/vnd.microsoft.datawrangler.viewer.v0+json": {
       "columns": [
        {
         "name": "index",
         "rawType": "int64",
         "type": "integer"
        },
        {
         "name": "oldpeak",
         "rawType": "float64",
         "type": "float"
        },
        {
         "name": "sex",
         "rawType": "int64",
         "type": "integer"
        },
        {
         "name": "ca",
         "rawType": "float64",
         "type": "float"
        },
        {
         "name": "thalach",
         "rawType": "float64",
         "type": "float"
        },
        {
         "name": "exang",
         "rawType": "int64",
         "type": "integer"
        },
        {
         "name": "thal",
         "rawType": "int64",
         "type": "integer"
        },
        {
         "name": "cp",
         "rawType": "int64",
         "type": "integer"
        },
        {
         "name": "slope",
         "rawType": "int64",
         "type": "integer"
        },
        {
         "name": "num",
         "rawType": "int64",
         "type": "integer"
        }
       ],
       "ref": "21361d91-aea2-494e-a03a-4074f94920c9",
       "rows": [
        [
         "0",
         "1.0689652869493862",
         "1",
         "-0.7219760518291243",
         "0.0174944339930979",
         "0",
         "2",
         "1",
         "3",
         "0"
        ],
        [
         "1",
         "1.326662275767542",
         "1",
         "1.4116248177554516",
         "-0.8994197241157145",
         "1",
         "3",
         "4",
         "2",
         "1"
        ],
        [
         "2",
         "2.0997532422220093",
         "1",
         "-0.7219760518291243",
         "1.6330098554229102",
         "0",
         "1",
         "3",
         "3",
         "0"
        ],
        [
         "3",
         "0.2958743204949193",
         "0",
         "-0.7219760518291243",
         "0.9780711710594728",
         "0",
         "1",
         "2",
         "1",
         "0"
        ],
        [
         "4",
         "-0.2195196571413918",
         "1",
         "-0.7219760518291243",
         "1.240046644804848",
         "0",
         "1",
         "2",
         "1",
         "0"
        ]
       ],
       "shape": {
        "columns": 9,
        "rows": 5
       }
      },
      "text/html": [
       "<div>\n",
       "<style scoped>\n",
       "    .dataframe tbody tr th:only-of-type {\n",
       "        vertical-align: middle;\n",
       "    }\n",
       "\n",
       "    .dataframe tbody tr th {\n",
       "        vertical-align: top;\n",
       "    }\n",
       "\n",
       "    .dataframe thead th {\n",
       "        text-align: right;\n",
       "    }\n",
       "</style>\n",
       "<table border=\"1\" class=\"dataframe\">\n",
       "  <thead>\n",
       "    <tr style=\"text-align: right;\">\n",
       "      <th></th>\n",
       "      <th>oldpeak</th>\n",
       "      <th>sex</th>\n",
       "      <th>ca</th>\n",
       "      <th>thalach</th>\n",
       "      <th>exang</th>\n",
       "      <th>thal</th>\n",
       "      <th>cp</th>\n",
       "      <th>slope</th>\n",
       "      <th>num</th>\n",
       "    </tr>\n",
       "  </thead>\n",
       "  <tbody>\n",
       "    <tr>\n",
       "      <th>0</th>\n",
       "      <td>1.068965</td>\n",
       "      <td>1</td>\n",
       "      <td>-0.721976</td>\n",
       "      <td>0.017494</td>\n",
       "      <td>0</td>\n",
       "      <td>2</td>\n",
       "      <td>1</td>\n",
       "      <td>3</td>\n",
       "      <td>0</td>\n",
       "    </tr>\n",
       "    <tr>\n",
       "      <th>1</th>\n",
       "      <td>1.326662</td>\n",
       "      <td>1</td>\n",
       "      <td>1.411625</td>\n",
       "      <td>-0.899420</td>\n",
       "      <td>1</td>\n",
       "      <td>3</td>\n",
       "      <td>4</td>\n",
       "      <td>2</td>\n",
       "      <td>1</td>\n",
       "    </tr>\n",
       "    <tr>\n",
       "      <th>2</th>\n",
       "      <td>2.099753</td>\n",
       "      <td>1</td>\n",
       "      <td>-0.721976</td>\n",
       "      <td>1.633010</td>\n",
       "      <td>0</td>\n",
       "      <td>1</td>\n",
       "      <td>3</td>\n",
       "      <td>3</td>\n",
       "      <td>0</td>\n",
       "    </tr>\n",
       "    <tr>\n",
       "      <th>3</th>\n",
       "      <td>0.295874</td>\n",
       "      <td>0</td>\n",
       "      <td>-0.721976</td>\n",
       "      <td>0.978071</td>\n",
       "      <td>0</td>\n",
       "      <td>1</td>\n",
       "      <td>2</td>\n",
       "      <td>1</td>\n",
       "      <td>0</td>\n",
       "    </tr>\n",
       "    <tr>\n",
       "      <th>4</th>\n",
       "      <td>-0.219520</td>\n",
       "      <td>1</td>\n",
       "      <td>-0.721976</td>\n",
       "      <td>1.240047</td>\n",
       "      <td>0</td>\n",
       "      <td>1</td>\n",
       "      <td>2</td>\n",
       "      <td>1</td>\n",
       "      <td>0</td>\n",
       "    </tr>\n",
       "  </tbody>\n",
       "</table>\n",
       "</div>"
      ],
      "text/plain": [
       "    oldpeak  sex        ca   thalach  exang  thal  cp  slope  num\n",
       "0  1.068965    1 -0.721976  0.017494      0     2   1      3    0\n",
       "1  1.326662    1  1.411625 -0.899420      1     3   4      2    1\n",
       "2  2.099753    1 -0.721976  1.633010      0     1   3      3    0\n",
       "3  0.295874    0 -0.721976  0.978071      0     1   2      1    0\n",
       "4 -0.219520    1 -0.721976  1.240047      0     1   2      1    0"
      ]
     },
     "execution_count": 12,
     "metadata": {},
     "output_type": "execute_result"
    }
   ],
   "source": [
    "df_selected = df[list(combined_features) + ['num']]\n",
    "print(\"Dataframe with selected features for modeling:\")\n",
    "df_selected.head()"
   ]
  },
  {
   "cell_type": "markdown",
   "id": "7c83f47b",
   "metadata": {},
   "source": [
    "## Save the selected features"
   ]
  },
  {
   "cell_type": "code",
   "execution_count": 13,
   "id": "19e459b3",
   "metadata": {},
   "outputs": [],
   "source": [
    "df_selected.to_csv('../data/selected_features_heart_disease.csv', index=False)"
   ]
  },
  {
   "cell_type": "code",
   "execution_count": null,
   "id": "ca6d5c28",
   "metadata": {},
   "outputs": [],
   "source": []
  }
 ],
 "metadata": {
  "kernelspec": {
   "display_name": "myenv (3.11.9)",
   "language": "python",
   "name": "python3"
  },
  "language_info": {
   "codemirror_mode": {
    "name": "ipython",
    "version": 3
   },
   "file_extension": ".py",
   "mimetype": "text/x-python",
   "name": "python",
   "nbconvert_exporter": "python",
   "pygments_lexer": "ipython3",
   "version": "3.11.9"
  }
 },
 "nbformat": 4,
 "nbformat_minor": 5
}

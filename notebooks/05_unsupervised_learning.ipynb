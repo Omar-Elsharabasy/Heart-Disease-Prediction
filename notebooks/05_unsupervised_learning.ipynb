{
 "cells": [
  {
   "cell_type": "markdown",
   "id": "af9cf07f",
   "metadata": {},
   "source": [
    "## Steps: \n",
    "\n",
    "1. Apply K-Means Clustering (elbow method to determine K). \n",
    "2. Perform Hierarchical Clustering (dendrogram analysis). \n",
    "3. Compare clusters with actual disease labels."
   ]
  },
  {
   "cell_type": "code",
   "execution_count": 1,
   "id": "21a6d472",
   "metadata": {},
   "outputs": [
    {
     "data": {
      "application/vnd.microsoft.datawrangler.viewer.v0+json": {
       "columns": [
        {
         "name": "index",
         "rawType": "int64",
         "type": "integer"
        },
        {
         "name": "age",
         "rawType": "float64",
         "type": "float"
        },
        {
         "name": "sex",
         "rawType": "int64",
         "type": "integer"
        },
        {
         "name": "cp",
         "rawType": "int64",
         "type": "integer"
        },
        {
         "name": "trestbps",
         "rawType": "float64",
         "type": "float"
        },
        {
         "name": "chol",
         "rawType": "float64",
         "type": "float"
        },
        {
         "name": "fbs",
         "rawType": "int64",
         "type": "integer"
        },
        {
         "name": "restecg",
         "rawType": "int64",
         "type": "integer"
        },
        {
         "name": "thalach",
         "rawType": "float64",
         "type": "float"
        },
        {
         "name": "exang",
         "rawType": "int64",
         "type": "integer"
        },
        {
         "name": "oldpeak",
         "rawType": "float64",
         "type": "float"
        },
        {
         "name": "slope",
         "rawType": "int64",
         "type": "integer"
        },
        {
         "name": "ca",
         "rawType": "float64",
         "type": "float"
        },
        {
         "name": "thal",
         "rawType": "int64",
         "type": "integer"
        },
        {
         "name": "num",
         "rawType": "int64",
         "type": "integer"
        }
       ],
       "ref": "fece4183-bb91-43eb-a348-f71f1624bc55",
       "rows": [
        [
         "0",
         "0.9361806492869552",
         "1",
         "1",
         "0.750380041408663",
         "-0.27644339140393",
         "1",
         "2",
         "0.0174944339930979",
         "0",
         "1.0689652869493862",
         "3",
         "-0.7219760518291243",
         "2",
         "0"
        ],
        [
         "1",
         "1.3789285041248942",
         "1",
         "4",
         "-0.6594306386164683",
         "-0.3534998787309756",
         "0",
         "2",
         "-0.8994197241157145",
         "1",
         "1.326662275767542",
         "2",
         "1.4116248177554516",
         "3",
         "1"
        ],
        [
         "2",
         "-1.9416804071596487",
         "1",
         "3",
         "-0.0955063666064158",
         "0.051046679736014",
         "0",
         "0",
         "1.6330098554229102",
         "0",
         "2.0997532422220093",
         "3",
         "-0.7219760518291243",
         "1",
         "0"
        ],
        [
         "3",
         "-1.4989325523217096",
         "0",
         "2",
         "-0.0955063666064158",
         "-0.835102924525011",
         "0",
         "2",
         "0.9780711710594728",
         "0",
         "0.2958743204949193",
         "1",
         "-0.7219760518291243",
         "1",
         "0"
        ],
        [
         "4",
         "0.1613719033205618",
         "1",
         "2",
         "-0.6594306386164683",
         "-0.2186510259086457",
         "0",
         "0",
         "1.240046644804848",
         "0",
         "-0.2195196571413918",
         "1",
         "-0.7219760518291243",
         "1",
         "0"
        ]
       ],
       "shape": {
        "columns": 14,
        "rows": 5
       }
      },
      "text/html": [
       "<div>\n",
       "<style scoped>\n",
       "    .dataframe tbody tr th:only-of-type {\n",
       "        vertical-align: middle;\n",
       "    }\n",
       "\n",
       "    .dataframe tbody tr th {\n",
       "        vertical-align: top;\n",
       "    }\n",
       "\n",
       "    .dataframe thead th {\n",
       "        text-align: right;\n",
       "    }\n",
       "</style>\n",
       "<table border=\"1\" class=\"dataframe\">\n",
       "  <thead>\n",
       "    <tr style=\"text-align: right;\">\n",
       "      <th></th>\n",
       "      <th>age</th>\n",
       "      <th>sex</th>\n",
       "      <th>cp</th>\n",
       "      <th>trestbps</th>\n",
       "      <th>chol</th>\n",
       "      <th>fbs</th>\n",
       "      <th>restecg</th>\n",
       "      <th>thalach</th>\n",
       "      <th>exang</th>\n",
       "      <th>oldpeak</th>\n",
       "      <th>slope</th>\n",
       "      <th>ca</th>\n",
       "      <th>thal</th>\n",
       "      <th>num</th>\n",
       "    </tr>\n",
       "  </thead>\n",
       "  <tbody>\n",
       "    <tr>\n",
       "      <th>0</th>\n",
       "      <td>0.936181</td>\n",
       "      <td>1</td>\n",
       "      <td>1</td>\n",
       "      <td>0.750380</td>\n",
       "      <td>-0.276443</td>\n",
       "      <td>1</td>\n",
       "      <td>2</td>\n",
       "      <td>0.017494</td>\n",
       "      <td>0</td>\n",
       "      <td>1.068965</td>\n",
       "      <td>3</td>\n",
       "      <td>-0.721976</td>\n",
       "      <td>2</td>\n",
       "      <td>0</td>\n",
       "    </tr>\n",
       "    <tr>\n",
       "      <th>1</th>\n",
       "      <td>1.378929</td>\n",
       "      <td>1</td>\n",
       "      <td>4</td>\n",
       "      <td>-0.659431</td>\n",
       "      <td>-0.353500</td>\n",
       "      <td>0</td>\n",
       "      <td>2</td>\n",
       "      <td>-0.899420</td>\n",
       "      <td>1</td>\n",
       "      <td>1.326662</td>\n",
       "      <td>2</td>\n",
       "      <td>1.411625</td>\n",
       "      <td>3</td>\n",
       "      <td>1</td>\n",
       "    </tr>\n",
       "    <tr>\n",
       "      <th>2</th>\n",
       "      <td>-1.941680</td>\n",
       "      <td>1</td>\n",
       "      <td>3</td>\n",
       "      <td>-0.095506</td>\n",
       "      <td>0.051047</td>\n",
       "      <td>0</td>\n",
       "      <td>0</td>\n",
       "      <td>1.633010</td>\n",
       "      <td>0</td>\n",
       "      <td>2.099753</td>\n",
       "      <td>3</td>\n",
       "      <td>-0.721976</td>\n",
       "      <td>1</td>\n",
       "      <td>0</td>\n",
       "    </tr>\n",
       "    <tr>\n",
       "      <th>3</th>\n",
       "      <td>-1.498933</td>\n",
       "      <td>0</td>\n",
       "      <td>2</td>\n",
       "      <td>-0.095506</td>\n",
       "      <td>-0.835103</td>\n",
       "      <td>0</td>\n",
       "      <td>2</td>\n",
       "      <td>0.978071</td>\n",
       "      <td>0</td>\n",
       "      <td>0.295874</td>\n",
       "      <td>1</td>\n",
       "      <td>-0.721976</td>\n",
       "      <td>1</td>\n",
       "      <td>0</td>\n",
       "    </tr>\n",
       "    <tr>\n",
       "      <th>4</th>\n",
       "      <td>0.161372</td>\n",
       "      <td>1</td>\n",
       "      <td>2</td>\n",
       "      <td>-0.659431</td>\n",
       "      <td>-0.218651</td>\n",
       "      <td>0</td>\n",
       "      <td>0</td>\n",
       "      <td>1.240047</td>\n",
       "      <td>0</td>\n",
       "      <td>-0.219520</td>\n",
       "      <td>1</td>\n",
       "      <td>-0.721976</td>\n",
       "      <td>1</td>\n",
       "      <td>0</td>\n",
       "    </tr>\n",
       "  </tbody>\n",
       "</table>\n",
       "</div>"
      ],
      "text/plain": [
       "        age  sex  cp  trestbps      chol  fbs  restecg   thalach  exang  \\\n",
       "0  0.936181    1   1  0.750380 -0.276443    1        2  0.017494      0   \n",
       "1  1.378929    1   4 -0.659431 -0.353500    0        2 -0.899420      1   \n",
       "2 -1.941680    1   3 -0.095506  0.051047    0        0  1.633010      0   \n",
       "3 -1.498933    0   2 -0.095506 -0.835103    0        2  0.978071      0   \n",
       "4  0.161372    1   2 -0.659431 -0.218651    0        0  1.240047      0   \n",
       "\n",
       "    oldpeak  slope        ca  thal  num  \n",
       "0  1.068965      3 -0.721976     2    0  \n",
       "1  1.326662      2  1.411625     3    1  \n",
       "2  2.099753      3 -0.721976     1    0  \n",
       "3  0.295874      1 -0.721976     1    0  \n",
       "4 -0.219520      1 -0.721976     1    0  "
      ]
     },
     "execution_count": 1,
     "metadata": {},
     "output_type": "execute_result"
    }
   ],
   "source": [
    "# Load the dataset\n",
    "import pandas as pd\n",
    "\n",
    "# df = pd.read_csv('../data/selected_features_heart_disease.csv')\n",
    "df = pd.read_csv('../data/processed_heart_disease.csv')\n",
    "df.head()"
   ]
  },
  {
   "cell_type": "markdown",
   "id": "be13a783",
   "metadata": {},
   "source": [
    "## 1. Apply K-Means Clustering (elbow method to determine K). "
   ]
  },
  {
   "cell_type": "code",
   "execution_count": 2,
   "id": "7362c6cb",
   "metadata": {},
   "outputs": [
    {
     "data": {
      "image/png": "[encoded data removed]",
      "text/plain": [
       "<Figure size 800x600 with 1 Axes>"
      ]
     },
     "metadata": {},
     "output_type": "display_data"
    }
   ],
   "source": [
    "from sklearn.cluster import KMeans\n",
    "import matplotlib.pyplot as plt\n",
    "\n",
    "X = df.drop('num', axis=1)\n",
    "\n",
    "# Elbow method to find optimal K\n",
    "inertia = []\n",
    "K_range = range(1, 11)\n",
    "for k in K_range:\n",
    "    kmeans = KMeans(n_clusters=k, random_state=42)\n",
    "    kmeans.fit(X)\n",
    "    inertia.append(kmeans.inertia_)\n",
    "\n",
    "plt.figure(figsize=(8, 6))\n",
    "plt.plot(K_range, inertia, marker='o')\n",
    "plt.xlabel('Number of clusters (K)')\n",
    "plt.ylabel('Inertia')\n",
    "plt.title('Elbow Method For Optimal K')\n",
    "plt.show()"
   ]
  },
  {
   "cell_type": "markdown",
   "id": "a5fa461a",
   "metadata": {},
   "source": [
    "## 2. Perform Hierarchical Clustering (dendrogram analysis). "
   ]
  },
  {
   "cell_type": "code",
   "execution_count": 3,
   "id": "828bfae3",
   "metadata": {},
   "outputs": [
    {
     "data": {
      "image/png": "[encoded data removed]",
      "text/plain": [
       "<Figure size 1000x800 with 1 Axes>"
      ]
     },
     "metadata": {},
     "output_type": "display_data"
    }
   ],
   "source": [
    "from scipy.cluster.hierarchy import dendrogram, linkage\n",
    "\n",
    "linked = linkage(X, method='ward')\n",
    "\n",
    "plt.figure(figsize=(10, 8))\n",
    "dendrogram(linked)\n",
    "plt.title('Hierarchical Clustering Dendrogram')\n",
    "plt.xlabel('Sample Index')\n",
    "plt.ylabel('Distance')\n",
    "plt.show()"
   ]
  },
  {
   "cell_type": "markdown",
   "id": "94e0eac7",
   "metadata": {},
   "source": [
    "## 3. Compare clusters with actual disease labels."
   ]
  },
  {
   "cell_type": "code",
   "execution_count": 4,
   "id": "808cf8d5",
   "metadata": {},
   "outputs": [
    {
     "name": "stdout",
     "output_type": "stream",
     "text": [
      "Confusion Matrix:\n",
      " [[ 28 123]\n",
      " [ 85  25]]\n",
      "Adjusted Rand Index: 0.34999835085969216\n",
      "Normalized Mutual Information: 0.26495489274144446\n"
     ]
    }
   ],
   "source": [
    "from sklearn.metrics import adjusted_rand_score, confusion_matrix, normalized_mutual_info_score\n",
    "\n",
    "optimal_k = 2\n",
    "kmeans_final = KMeans(n_clusters=optimal_k, random_state=42)\n",
    "cluster_labels = kmeans_final.fit_predict(X)\n",
    "\n",
    "actual_labels = df['num']\n",
    "\n",
    "cm = confusion_matrix(actual_labels, cluster_labels)\n",
    "print(\"Confusion Matrix:\\n\", cm)\n",
    "\n",
    "ari = adjusted_rand_score(actual_labels, cluster_labels)\n",
    "print(\"Adjusted Rand Index:\", ari)\n",
    "\n",
    "nmi = normalized_mutual_info_score(actual_labels, cluster_labels)\n",
    "print(\"Normalized Mutual Information:\", nmi)"
   ]
  },
  {
   "cell_type": "code",
   "execution_count": null,
   "id": "0000f670",
   "metadata": {},
   "outputs": [],
   "source": []
  }
 ],
 "metadata": {
  "kernelspec": {
   "display_name": "myenv (3.11.9)",
   "language": "python",
   "name": "python3"
  },
  "language_info": {
   "codemirror_mode": {
    "name": "ipython",
    "version": 3
   },
   "file_extension": ".py",
   "mimetype": "text/x-python",
   "name": "python",
   "nbconvert_exporter": "python",
   "pygments_lexer": "ipython3",
   "version": "3.11.9"
  }
 },
 "nbformat": 4,
 "nbformat_minor": 5
}
